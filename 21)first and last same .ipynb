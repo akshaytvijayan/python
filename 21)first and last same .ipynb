{
 "cells": [
  {
   "cell_type": "code",
   "execution_count": 6,
   "metadata": {},
   "outputs": [
    {
     "name": "stdout",
     "output_type": "stream",
     "text": [
      "Enter some numbers with comma separated: 1,1,2\n",
      "False! The first and last numbers are not same.\n"
     ]
    }
   ],
   "source": [
    "a=input(\"Enter some numbers with comma separated: \")\n",
    "p=a.split(\",\")\n",
    "if(a[0]==a[-1]):\n",
    "    print(\"True! The first and last numbers are same.\")\n",
    "else:\n",
    "    print(\"False! The first and last numbers are not same.\")"
   ]
  },
  {
   "cell_type": "code",
   "execution_count": null,
   "metadata": {
    "collapsed": true
   },
   "outputs": [],
   "source": []
  }
 ],
 "metadata": {
  "kernelspec": {
   "display_name": "Python 3",
   "language": "python",
   "name": "python3"
  },
  "language_info": {
   "codemirror_mode": {
    "name": "ipython",
    "version": 3
   },
   "file_extension": ".py",
   "mimetype": "text/x-python",
   "name": "python",
   "nbconvert_exporter": "python",
   "pygments_lexer": "ipython3",
   "version": "3.6.3"
  }
 },
 "nbformat": 4,
 "nbformat_minor": 2
}
