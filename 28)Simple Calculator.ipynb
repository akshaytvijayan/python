{
 "cells": [
  {
   "cell_type": "code",
   "execution_count": 10,
   "metadata": {},
   "outputs": [
    {
     "name": "stdout",
     "output_type": "stream",
     "text": [
      "Enter the First number : 65\n",
      "Enter the Second number : 55\n",
      "1.Addition\n",
      "2.Substract\n",
      "3.multiplication\n",
      "4.Division\n",
      "Enter the choice : 2\n",
      "Substract:10.00\n"
     ]
    }
   ],
   "source": [
    "num1=float(input(\"Enter the First number : \"))\n",
    "num2=float(input(\"Enter the Second number : \"))\n",
    "\n",
    "print(\"1.Addition\")\n",
    "print(\"2.Substract\")\n",
    "print(\"3.multiplication\")\n",
    "print(\"4.Division\")\n",
    "\n",
    "choice=int(input(\"Enter the choice : \"))\n",
    "\n",
    "if(choice==1):\n",
    "    print(\"Addition:%.2f\" %(num1+num2))\n",
    "    \n",
    "elif(choice==2):\n",
    "    print(\"Substract:%.2f\" %(num1-num2))\n",
    "    \n",
    "elif(choice==3):\n",
    "    print(\"Multiplication:%.2f\" %(num1*num2))\n",
    "    \n",
    "elif(choice==4):\n",
    "    print(\"Division:%.2f\" %(num1/num2))\n",
    "    \n",
    "else:\n",
    "    print(\"invalid\")"
   ]
  },
  {
   "cell_type": "code",
   "execution_count": null,
   "metadata": {
    "collapsed": true
   },
   "outputs": [],
   "source": []
  },
  {
   "cell_type": "code",
   "execution_count": null,
   "metadata": {
    "collapsed": true
   },
   "outputs": [],
   "source": []
  },
  {
   "cell_type": "code",
   "execution_count": null,
   "metadata": {
    "collapsed": true
   },
   "outputs": [],
   "source": []
  },
  {
   "cell_type": "code",
   "execution_count": null,
   "metadata": {
    "collapsed": true
   },
   "outputs": [],
   "source": []
  },
  {
   "cell_type": "code",
   "execution_count": null,
   "metadata": {
    "collapsed": true
   },
   "outputs": [],
   "source": []
  },
  {
   "cell_type": "code",
   "execution_count": null,
   "metadata": {
    "collapsed": true
   },
   "outputs": [],
   "source": []
  },
  {
   "cell_type": "code",
   "execution_count": null,
   "metadata": {
    "collapsed": true
   },
   "outputs": [],
   "source": []
  }
 ],
 "metadata": {
  "kernelspec": {
   "display_name": "Python 3",
   "language": "python",
   "name": "python3"
  },
  "language_info": {
   "codemirror_mode": {
    "name": "ipython",
    "version": 3
   },
   "file_extension": ".py",
   "mimetype": "text/x-python",
   "name": "python",
   "nbconvert_exporter": "python",
   "pygments_lexer": "ipython3",
   "version": "3.6.3"
  }
 },
 "nbformat": 4,
 "nbformat_minor": 2
}
