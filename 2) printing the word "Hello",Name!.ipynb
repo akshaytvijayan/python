{
 "cells": [
  {
   "cell_type": "code",
   "execution_count": 2,
   "id": "e959a6c8",
   "metadata": {},
   "outputs": [
    {
     "name": "stdout",
     "output_type": "stream",
     "text": [
      "Enter The Name:Akshay T Vijayan\n",
      "Hello,Akshay T Vijayan !\n"
     ]
    }
   ],
   "source": [
    "a=input('Enter The Name:')\n",
    "print(\"Hello,\"+a,'!')"
   ]
  },
  {
   "cell_type": "code",
   "execution_count": null,
   "id": "98fa0910",
   "metadata": {},
   "outputs": [],
   "source": []
  }
 ],
 "metadata": {
  "kernelspec": {
   "display_name": "Python 3",
   "language": "python",
   "name": "python3"
  },
  "language_info": {
   "codemirror_mode": {
    "name": "ipython",
    "version": 3
   },
   "file_extension": ".py",
   "mimetype": "text/x-python",
   "name": "python",
   "nbconvert_exporter": "python",
   "pygments_lexer": "ipython3",
   "version": "3.6.3"
  }
 },
 "nbformat": 4,
 "nbformat_minor": 5
}
