{
 "cells": [
  {
   "cell_type": "code",
   "execution_count": 4,
   "metadata": {},
   "outputs": [
    {
     "name": "stdout",
     "output_type": "stream",
     "text": [
      "Enter the Number : 12\n",
      "Enter the Number : 6\n",
      "GCD of  12 and 6 is : 6\n"
     ]
    }
   ],
   "source": [
    "#GCD of two integers\n",
    "a=int(input(\"Enter the Number : \"))\n",
    "b=int(input(\"Enter the Number : \"))\n",
    "c=min(a,b)\n",
    "while(c>0):\n",
    "    if(a%c==0 and b%c==0):\n",
    "        print(\"GCD of \",a , \"and\" ,b, \"is :\",c)\n",
    "        break;\n",
    "    c=c-1"
   ]
  }
 ],
 "metadata": {
  "kernelspec": {
   "display_name": "Python 3",
   "language": "python",
   "name": "python3"
  },
  "language_info": {
   "codemirror_mode": {
    "name": "ipython",
    "version": 3
   },
   "file_extension": ".py",
   "mimetype": "text/x-python",
   "name": "python",
   "nbconvert_exporter": "python",
   "pygments_lexer": "ipython3",
   "version": "3.6.3"
  }
 },
 "nbformat": 4,
 "nbformat_minor": 2
}
