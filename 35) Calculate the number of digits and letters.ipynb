{
 "cells": [
  {
   "cell_type": "code",
   "execution_count": 13,
   "metadata": {},
   "outputs": [
    {
     "name": "stdout",
     "output_type": "stream",
     "text": [
      "Enter the String : erry556\n",
      "The Total Letter in the String is 4\n",
      "The Total Numbers in the String is 3\n"
     ]
    }
   ],
   "source": [
    "#program that accepts a string and\n",
    "#calculate the number of digits and letters.(isdigit(),isalpha())\n",
    "\n",
    "a=str(input(\"Enter the String : \"))\n",
    "d=0\n",
    "l=0\n",
    "for i in a:\n",
    "    if(i.isdigit()):\n",
    "        d=d+1\n",
    "    elif(i.isalpha()):\n",
    "        l=l+1\n",
    "print(\"The Total Letter in the String is %d\"%l)\n",
    "print(\"The Total Numbers in the String is %d\"%d)\n",
    "\n"
   ]
  },
  {
   "cell_type": "code",
   "execution_count": null,
   "metadata": {
    "collapsed": true
   },
   "outputs": [],
   "source": []
  }
 ],
 "metadata": {
  "kernelspec": {
   "display_name": "Python 3",
   "language": "python",
   "name": "python3"
  },
  "language_info": {
   "codemirror_mode": {
    "name": "ipython",
    "version": 3
   },
   "file_extension": ".py",
   "mimetype": "text/x-python",
   "name": "python",
   "nbconvert_exporter": "python",
   "pygments_lexer": "ipython3",
   "version": "3.6.3"
  }
 },
 "nbformat": 4,
 "nbformat_minor": 2
}
