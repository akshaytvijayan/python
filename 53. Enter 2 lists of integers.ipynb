{
 "cells": [
  {
   "cell_type": "code",
   "execution_count": 5,
   "metadata": {},
   "outputs": [
    {
     "name": "stdout",
     "output_type": "stream",
     "text": [
      "Two lists have unequal length\n",
      " sum of two list are  not equal\n",
      "7  occurs in both lst\n",
      "8  occurs in both lst\n",
      "9  occurs in both lst\n",
      "10  occurs in both lst\n"
     ]
    }
   ],
   "source": [
    "#53. Enter 2 lists of integers.Check \n",
    "#(a) Whether list are of same length \n",
    "#(b) whether list sums to same value \n",
    "#(c) whether any value occur in both\n",
    "lst1 = ['7', '8', '9', '10']\n",
    "lst2 = ['8', '5', '7', '100', '10', '12','9']\n",
    "sum1 = str(0)\n",
    "sum2 = str(0)\n",
    "if len(lst1) == len(lst2):\n",
    "    print(\"Both list are  equal length\")\n",
    "else:\n",
    "    print(\"Two lists have unequal length\")\n",
    "for x in lst1:\n",
    "    sum1 = sum1 + x\n",
    "for x in lst2:\n",
    "    sum2 = sum2 + x\n",
    "if sum1 == sum2:\n",
    "    a = \"equal\"  \n",
    "else:\n",
    "    a = \"not equal\"  \n",
    "print(\" sum of two list are \", a)  \n",
    "for x in lst1:\n",
    "    for y in lst2:\n",
    "        if x == y:\n",
    "            print(y,\" occurs in both lst\")"
   ]
  },
  {
   "cell_type": "code",
   "execution_count": null,
   "metadata": {
    "collapsed": true
   },
   "outputs": [],
   "source": []
  }
 ],
 "metadata": {
  "kernelspec": {
   "display_name": "Python 3",
   "language": "python",
   "name": "python3"
  },
  "language_info": {
   "codemirror_mode": {
    "name": "ipython",
    "version": 3
   },
   "file_extension": ".py",
   "mimetype": "text/x-python",
   "name": "python",
   "nbconvert_exporter": "python",
   "pygments_lexer": "ipython3",
   "version": "3.6.3"
  }
 },
 "nbformat": 4,
 "nbformat_minor": 2
}
