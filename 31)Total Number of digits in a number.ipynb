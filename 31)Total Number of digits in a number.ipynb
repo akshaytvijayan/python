{
 "cells": [
  {
   "cell_type": "code",
   "execution_count": 2,
   "metadata": {},
   "outputs": [
    {
     "name": "stdout",
     "output_type": "stream",
     "text": [
      "Enter The Number: 9599\n",
      "Total Number of digits in a number :  4\n"
     ]
    }
   ],
   "source": [
    "#Given a number count the total number of digits in a number\n",
    "a=int(input('Enter The Number: '))\n",
    "i=0\n",
    "while(a!=0):\n",
    "    p=a%10\n",
    "    i=i+1\n",
    "    a=a//10\n",
    "print(\"Total Number of digits in a number : \",i)"
   ]
  }
 ],
 "metadata": {
  "kernelspec": {
   "display_name": "Python 3",
   "language": "python",
   "name": "python3"
  },
  "language_info": {
   "codemirror_mode": {
    "name": "ipython",
    "version": 3
   },
   "file_extension": ".py",
   "mimetype": "text/x-python",
   "name": "python",
   "nbconvert_exporter": "python",
   "pygments_lexer": "ipython3",
   "version": "3.6.3"
  }
 },
 "nbformat": 4,
 "nbformat_minor": 2
}
