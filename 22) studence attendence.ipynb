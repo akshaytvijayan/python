{
 "cells": [
  {
   "cell_type": "code",
   "execution_count": 11,
   "metadata": {},
   "outputs": [
    {
     "name": "stdout",
     "output_type": "stream",
     "text": [
      "Total number of classes held: 100\n",
      "Number of classes attended: 76\n",
      "percentage = 76\n",
      "You have 76 percentage attendance\n"
     ]
    }
   ],
   "source": [
    "a=int(input('Total number of classes held: '))\n",
    "b=int(input('Number of classes attended: '))\n",
    "p=(b*100)/a\n",
    "print(\"percentage = %d\" %p)\n",
    "if(p<=75):\n",
    "    print('Sorry! You only have %d attendance' %p)\n",
    "else:\n",
    "    print('You have %d percentage attendance' %p)"
   ]
  }
 ],
 "metadata": {
  "kernelspec": {
   "display_name": "Python 3",
   "language": "python",
   "name": "python3"
  },
  "language_info": {
   "codemirror_mode": {
    "name": "ipython",
    "version": 3
   },
   "file_extension": ".py",
   "mimetype": "text/x-python",
   "name": "python",
   "nbconvert_exporter": "python",
   "pygments_lexer": "ipython3",
   "version": "3.6.3"
  }
 },
 "nbformat": 4,
 "nbformat_minor": 2
}
