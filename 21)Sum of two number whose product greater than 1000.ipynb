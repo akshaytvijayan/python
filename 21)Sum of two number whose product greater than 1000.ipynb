{
 "cells": [
  {
   "cell_type": "code",
   "execution_count": 1,
   "metadata": {},
   "outputs": [
    {
     "name": "stdout",
     "output_type": "stream",
     "text": [
      "Enter The First Number :1000\n",
      "Enter The Second Number :152\n",
      "Sum of two number whose product greater than 1000= 1152\n"
     ]
    }
   ],
   "source": [
    "a=int(input(\"Enter The First Number :\"))\n",
    "b=int(input(\"Enter The Second Number :\"))\n",
    "c=a*b\n",
    "if(c>1000):\n",
    "    print(\"Sum of two number whose product greater than 1000= %d\" %(a+b))\n",
    "else:\n",
    "    print(\"The Product is not greater than 1000\")"
   ]
  },
  {
   "cell_type": "code",
   "execution_count": null,
   "metadata": {
    "collapsed": true
   },
   "outputs": [],
   "source": []
  },
  {
   "cell_type": "code",
   "execution_count": null,
   "metadata": {
    "collapsed": true
   },
   "outputs": [],
   "source": []
  }
 ],
 "metadata": {
  "kernelspec": {
   "display_name": "Python 3",
   "language": "python",
   "name": "python3"
  },
  "language_info": {
   "codemirror_mode": {
    "name": "ipython",
    "version": 3
   },
   "file_extension": ".py",
   "mimetype": "text/x-python",
   "name": "python",
   "nbconvert_exporter": "python",
   "pygments_lexer": "ipython3",
   "version": "3.6.3"
  }
 },
 "nbformat": 4,
 "nbformat_minor": 2
}
