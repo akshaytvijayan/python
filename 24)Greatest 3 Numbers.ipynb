{
 "cells": [
  {
   "cell_type": "code",
   "execution_count": 1,
   "metadata": {},
   "outputs": [
    {
     "name": "stdout",
     "output_type": "stream",
     "text": [
      "Enter the First Number : 1\n",
      "Enter the Second  Number : 2\n",
      "Enter the Third  Number : 3\n",
      "The largest number is 3\n"
     ]
    }
   ],
   "source": [
    "a=int(input(\"Enter the First Number : \"))\n",
    "b=int(input(\"Enter the Second  Number : \"))\n",
    "c=int(input(\"Enter the Third  Number : \"))\n",
    "if (a >= b) and (b >= c):\n",
    "   largest = a\n",
    "elif (b >= a) and (b >= c):\n",
    "   largest = b\n",
    "else:\n",
    "   largest = c\n",
    "print(\"The largest number is\", largest)"
   ]
  },
  {
   "cell_type": "code",
   "execution_count": null,
   "metadata": {
    "collapsed": true
   },
   "outputs": [],
   "source": []
  }
 ],
 "metadata": {
  "kernelspec": {
   "display_name": "Python 3",
   "language": "python",
   "name": "python3"
  },
  "language_info": {
   "codemirror_mode": {
    "name": "ipython",
    "version": 3
   },
   "file_extension": ".py",
   "mimetype": "text/x-python",
   "name": "python",
   "nbconvert_exporter": "python",
   "pygments_lexer": "ipython3",
   "version": "3.6.3"
  }
 },
 "nbformat": 4,
 "nbformat_minor": 2
}
