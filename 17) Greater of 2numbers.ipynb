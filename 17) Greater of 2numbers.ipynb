{
 "cells": [
  {
   "cell_type": "code",
   "execution_count": 3,
   "metadata": {},
   "outputs": [
    {
     "name": "stdout",
     "output_type": "stream",
     "text": [
      "Enter th First number : 5\n",
      "Enter th Second number : 2\n",
      "a is Greater\n"
     ]
    }
   ],
   "source": [
    "a=input(\"Enter th First number : \")\n",
    "b=input(\"Enter th Second number : \")\n",
    "if(a>b):\n",
    "    print(\"a is Greater\")\n",
    "else:\n",
    "    print(\"b is Greater\")"
   ]
  }
 ],
 "metadata": {
  "kernelspec": {
   "display_name": "Python 3",
   "language": "python",
   "name": "python3"
  },
  "language_info": {
   "codemirror_mode": {
    "name": "ipython",
    "version": 3
   },
   "file_extension": ".py",
   "mimetype": "text/x-python",
   "name": "python",
   "nbconvert_exporter": "python",
   "pygments_lexer": "ipython3",
   "version": "3.6.3"
  }
 },
 "nbformat": 4,
 "nbformat_minor": 2
}
