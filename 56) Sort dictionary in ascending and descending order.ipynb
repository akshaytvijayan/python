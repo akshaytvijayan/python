{
 "cells": [
  {
   "cell_type": "code",
   "execution_count": 11,
   "metadata": {},
   "outputs": [
    {
     "name": "stdout",
     "output_type": "stream",
     "text": [
      "\n",
      " DICTIONARY =  {'Arctic': 1, 'Southern': 2, 'Indian': 3, 'Atlantic': 4, 'Pacific': 5}\n",
      "\n",
      " Dictionary in Ascending order : {'Arctic': 1, 'Atlantic': 4, 'Indian': 3, 'Pacific': 5, 'Southern': 2}\n",
      "\n",
      " Dictionary in Descending order : {'Southern': 2, 'Pacific': 5, 'Indian': 3, 'Atlantic': 4, 'Arctic': 1}\n"
     ]
    }
   ],
   "source": [
    "#sorting in ascending and descending\n",
    "d={'Arctic':1,'Southern':2,'Indian':3,'Atlantic':4,'Pacific':5 }\n",
    "print(\"\\n DICTIONARY = \",d)\n",
    "items=list(d.items())\n",
    "items.sort()\n",
    "d=dict(items)\n",
    "print(\"\\n Dictionary in Ascending order :\",d)\n",
    " \n",
    "items=list(d.items())\n",
    "items.reverse()\n",
    "d=dict(items)\n",
    "print(\"\\n Dictionary in Descending order :\",d)"
   ]
  },
  {
   "cell_type": "code",
   "execution_count": null,
   "metadata": {
    "collapsed": true
   },
   "outputs": [],
   "source": []
  },
  {
   "cell_type": "code",
   "execution_count": null,
   "metadata": {
    "collapsed": true
   },
   "outputs": [],
   "source": []
  }
 ],
 "metadata": {
  "kernelspec": {
   "display_name": "Python 3",
   "language": "python",
   "name": "python3"
  },
  "language_info": {
   "codemirror_mode": {
    "name": "ipython",
    "version": 3
   },
   "file_extension": ".py",
   "mimetype": "text/x-python",
   "name": "python",
   "nbconvert_exporter": "python",
   "pygments_lexer": "ipython3",
   "version": "3.6.3"
  }
 },
 "nbformat": 4,
 "nbformat_minor": 2
}
