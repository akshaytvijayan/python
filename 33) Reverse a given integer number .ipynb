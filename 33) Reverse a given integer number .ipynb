{
 "cells": [
  {
   "cell_type": "code",
   "execution_count": 62,
   "metadata": {},
   "outputs": [
    {
     "name": "stdout",
     "output_type": "stream",
     "text": [
      "Enter the Number : 100\n",
      "The Reverse Number is :001"
     ]
    }
   ],
   "source": [
    "#The Reverse Number of Integers\n",
    "n=int(input(\"Enter the Number : \"))\n",
    "b=0\n",
    "print(\"The Reverse Number is :\",end=\"\")\n",
    "while(n!=0):\n",
    "    b=n%10\n",
    "    n=n//10\n",
    "    print(b,end=\"\")\n"
   ]
  }
 ],
 "metadata": {
  "kernelspec": {
   "display_name": "Python 3",
   "language": "python",
   "name": "python3"
  },
  "language_info": {
   "codemirror_mode": {
    "name": "ipython",
    "version": 3
   },
   "file_extension": ".py",
   "mimetype": "text/x-python",
   "name": "python",
   "nbconvert_exporter": "python",
   "pygments_lexer": "ipython3",
   "version": "3.6.3"
  }
 },
 "nbformat": 4,
 "nbformat_minor": 2
}
