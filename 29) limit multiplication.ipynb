{
 "cells": [
  {
   "cell_type": "code",
   "execution_count": 10,
   "metadata": {},
   "outputs": [
    {
     "name": "stdout",
     "output_type": "stream",
     "text": [
      "Enter The Number: 5\n",
      "Enter the limit :3\n",
      "1 * 5 = 5\n",
      "2 * 5 = 10\n",
      "3 * 5 = 15\n"
     ]
    }
   ],
   "source": [
    "a=int(input('Enter The Number: '))\n",
    "i=1\n",
    "b=int(input(\"Enter the limit :\"))\n",
    "while(i<=b):\n",
    "    print(i,\"*\",a,\"=\" ,i*a)\n",
    "    i=i+1"
   ]
  }
 ],
 "metadata": {
  "kernelspec": {
   "display_name": "Python 3",
   "language": "python",
   "name": "python3"
  },
  "language_info": {
   "codemirror_mode": {
    "name": "ipython",
    "version": 3
   },
   "file_extension": ".py",
   "mimetype": "text/x-python",
   "name": "python",
   "nbconvert_exporter": "python",
   "pygments_lexer": "ipython3",
   "version": "3.6.3"
  }
 },
 "nbformat": 4,
 "nbformat_minor": 2
}
