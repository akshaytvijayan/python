{
 "cells": [
  {
   "cell_type": "code",
   "execution_count": 11,
   "metadata": {},
   "outputs": [
    {
     "name": "stdout",
     "output_type": "stream",
     "text": [
      "Enter a word: hijing\n",
      "New word:  hijingly\n"
     ]
    }
   ],
   "source": [
    "#68. Add ‘ing’ at the end of a given string. If it already ends with ‘ing’, then add ‘ly’.\n",
    "\n",
    "word=input(\"Enter a word: \")\n",
    "str1=word[-3:]\n",
    "if str1=='ing':\n",
    "    word=word+'ly'\n",
    "else:\n",
    "    word=word+'ing'\n",
    "print(\"New word: \",word)"
   ]
  }
 ],
 "metadata": {
  "kernelspec": {
   "display_name": "Python 3",
   "language": "python",
   "name": "python3"
  },
  "language_info": {
   "codemirror_mode": {
    "name": "ipython",
    "version": 3
   },
   "file_extension": ".py",
   "mimetype": "text/x-python",
   "name": "python",
   "nbconvert_exporter": "python",
   "pygments_lexer": "ipython3",
   "version": "3.6.3"
  }
 },
 "nbformat": 4,
 "nbformat_minor": 2
}
