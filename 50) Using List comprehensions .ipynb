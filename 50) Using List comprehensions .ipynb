{
 "cells": [
  {
   "cell_type": "code",
   "execution_count": 1,
   "metadata": {},
   "outputs": [
    {
     "name": "stdout",
     "output_type": "stream",
     "text": [
      "\n",
      " Enter the numbers seperated by comma : 1,2,3\n",
      "\n",
      " Positive integers in the list : [1, 2, 3]\n",
      "\n",
      " Square of  numbers :  [1, 4, 9]\n",
      "\n",
      " Enter the word : ELEPHANT\n",
      "\n",
      " The Vowels are :  ['E', 'E', 'A']\n",
      "\n",
      " the ordinal values of the word ELEPHANT is : [69, 76, 69, 80, 72, 65, 78, 84]\n"
     ]
    }
   ],
   "source": [
    "#50.Using List comprehensions: \n",
    "#a) Generate positive list of numbers from a given list of integers \n",
    "#b) Square of N numbers \n",
    "#c) Form a list of vowels selected from a given word \n",
    "#d) List ordinal value of each element of a word (Hint: use ord() to get ordinal values)\n",
    "\n",
    "#a Comperhension List\n",
    "n=input(\"\\n Enter the numbers seperated by comma : \").split(\",\")\n",
    "b=map(int,n)\n",
    "nl=[x for x in b if x>0]\n",
    "print(\"\\n Positive integers in the list :\",nl)\n",
    "d=map(int,n)\n",
    "\n",
    "#b square of n numbers\n",
    "nl2=[x**2 for x in d]\n",
    "print(\"\\n Square of  numbers : \",nl2)\n",
    "\n",
    "#c vowels\n",
    "w=input(\"\\n Enter the word : \")\n",
    "vowels=[\"a\",\"e\",\"i\",\"o\",\"u\",'A','E','i','O','U']\n",
    "list=[v for v in w if any(char in vowels for char in v)]\n",
    "print(\"\\n The Vowels are : \",list)\n",
    "\n",
    "#d Ordinal value\n",
    "z=[ord(x) for x in w]\n",
    "print(\"\\n the ordinal values of the word %s is : %s\"%(w,z))"
   ]
  }
 ],
 "metadata": {
  "kernelspec": {
   "display_name": "Python 3",
   "language": "python",
   "name": "python3"
  },
  "language_info": {
   "codemirror_mode": {
    "name": "ipython",
    "version": 3
   },
   "file_extension": ".py",
   "mimetype": "text/x-python",
   "name": "python",
   "nbconvert_exporter": "python",
   "pygments_lexer": "ipython3",
   "version": "3.6.3"
  }
 },
 "nbformat": 4,
 "nbformat_minor": 2
}
