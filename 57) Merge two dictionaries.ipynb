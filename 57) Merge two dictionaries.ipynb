{
 "cells": [
  {
   "cell_type": "code",
   "execution_count": 3,
   "metadata": {},
   "outputs": [
    {
     "name": "stdout",
     "output_type": "stream",
     "text": [
      "{1: 'Arctic Ocean', 2: 'Southern Ocean.', 3: ' Indian Ocean'}\n",
      "{4: 'Atlantic Ocean', 5: ' Pacific Ocean.'}\n",
      "\n",
      " Merging two dictionaries : {4: 'Atlantic Ocean', 5: ' Pacific Ocean.', 1: 'Arctic Ocean', 2: 'Southern Ocean.', 3: ' Indian Ocean'}\n"
     ]
    }
   ],
   "source": [
    "#57. Merge two dictionaries.\n",
    "dict1={1:'Arctic Ocean',2:'Southern Ocean.',3:' Indian Ocean'}\n",
    "dict2={4:'Atlantic Ocean',5:' Pacific Ocean.'}\n",
    "print(dict1)\n",
    "print(dict2)\n",
    "dict3=dict2\n",
    "dict3.update(dict1)\n",
    "print(\"\\n Merging two dictionaries :\",dict3)\n"
   ]
  },
  {
   "cell_type": "code",
   "execution_count": null,
   "metadata": {
    "collapsed": true
   },
   "outputs": [],
   "source": []
  }
 ],
 "metadata": {
  "kernelspec": {
   "display_name": "Python 3",
   "language": "python",
   "name": "python3"
  },
  "language_info": {
   "codemirror_mode": {
    "name": "ipython",
    "version": 3
   },
   "file_extension": ".py",
   "mimetype": "text/x-python",
   "name": "python",
   "nbconvert_exporter": "python",
   "pygments_lexer": "ipython3",
   "version": "3.6.3"
  }
 },
 "nbformat": 4,
 "nbformat_minor": 2
}
