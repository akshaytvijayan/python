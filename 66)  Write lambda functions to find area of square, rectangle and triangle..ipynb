{
 "cells": [
  {
   "cell_type": "code",
   "execution_count": 17,
   "metadata": {},
   "outputs": [
    {
     "name": "stdout",
     "output_type": "stream",
     "text": [
      "\n",
      "1.Square\n",
      "2.Rectangle\n",
      "3.Triangle\n",
      "4.Exit\n",
      "Enter your choice: 1\n",
      "\n",
      "Enter side: 4\n",
      "Area of square:  16\n",
      "\n",
      "1.Square\n",
      "2.Rectangle\n",
      "3.Triangle\n",
      "4.Exit\n",
      "Enter your choice: 2\n",
      "\n",
      "Enter length: 5\n",
      "Enter breadth: 10\n",
      "Area of Rectangle:  50\n",
      "\n",
      "1.Square\n",
      "2.Rectangle\n",
      "3.Triangle\n",
      "4.Exit\n",
      "Enter your choice: 3\n",
      "\n",
      "Enter breadth: 20\n",
      "Enter height: 50\n",
      "Area of Triangle:  500.0\n",
      "\n",
      "1.Square\n",
      "2.Rectangle\n",
      "3.Triangle\n",
      "4.Exit\n",
      "Enter your choice: 4\n",
      "Exiting...\n"
     ]
    }
   ],
   "source": [
    "#66. Write lambda functions to find area of square, rectangle and triangle.\n",
    "\n",
    "sqr=lambda a:a*a\n",
    "rect=lambda l,b:l*b\n",
    "tri=lambda b,h: (b*h)/2\n",
    "while(1):\n",
    "    print(\"\\n1.Square\\n2.Rectangle\\n3.Triangle\\n4.Exit\")\n",
    "    ch=int(input(\"Enter your choice: \"))\n",
    "    if (ch==1):\n",
    "        a=int(input(\"\\nEnter side: \"))\n",
    "        print(\"Area of square: \",sqr(a))\n",
    "    elif (ch==2):\n",
    "        l = int(input(\"\\nEnter length: \"))\n",
    "        b = int(input(\"Enter breadth: \"))\n",
    "        print(\"Area of Rectangle: \",rect(l,b))\n",
    "    \n",
    "    elif (ch==3):\n",
    "        b = int(input(\"\\nEnter breadth: \"))\n",
    "        h = int(input(\"Enter height: \"))\n",
    "        print(\"Area of Triangle: \",tri(b,h))\n",
    "    else:\n",
    "        print(\"Exiting...\")\n",
    "        break\n"
   ]
  }
 ],
 "metadata": {
  "kernelspec": {
   "display_name": "Python 3",
   "language": "python",
   "name": "python3"
  },
  "language_info": {
   "codemirror_mode": {
    "name": "ipython",
    "version": 3
   },
   "file_extension": ".py",
   "mimetype": "text/x-python",
   "name": "python",
   "nbconvert_exporter": "python",
   "pygments_lexer": "ipython3",
   "version": "3.6.3"
  }
 },
 "nbformat": 4,
 "nbformat_minor": 2
}
