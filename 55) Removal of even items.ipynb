{
 "cells": [
  {
   "cell_type": "code",
   "execution_count": 1,
   "metadata": {},
   "outputs": [
    {
     "name": "stdout",
     "output_type": "stream",
     "text": [
      "List is =  [3, 5, 58, 75, 100, 43, 86]\n",
      "The new list after removal of even items =  [3, 5, 75, 43]\n"
     ]
    }
   ],
   "source": [
    "#55. From a list of integers, create a list removing even numbers.\n",
    "l=[3,5,58, 75,100,43,86]\n",
    "print(\"List is = \",l)\n",
    "for i in l:\n",
    "    if(i%2==0):\n",
    "        l.remove(i)\n",
    "print(\"The new list after removal of even items = \",l )\n"
   ]
  },
  {
   "cell_type": "code",
   "execution_count": null,
   "metadata": {
    "collapsed": true
   },
   "outputs": [],
   "source": []
  }
 ],
 "metadata": {
  "kernelspec": {
   "display_name": "Python 3",
   "language": "python",
   "name": "python3"
  },
  "language_info": {
   "codemirror_mode": {
    "name": "ipython",
    "version": 3
   },
   "file_extension": ".py",
   "mimetype": "text/x-python",
   "name": "python",
   "nbconvert_exporter": "python",
   "pygments_lexer": "ipython3",
   "version": "3.6.3"
  }
 },
 "nbformat": 4,
 "nbformat_minor": 2
}
