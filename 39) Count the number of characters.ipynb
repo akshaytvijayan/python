{
 "cells": [
  {
   "cell_type": "code",
   "execution_count": 53,
   "metadata": {},
   "outputs": [
    {
     "name": "stdout",
     "output_type": "stream",
     "text": [
      "Enter the String : ganga\n",
      "\n",
      "g 😀 2\n",
      "a 😀 2\n",
      "n 😀 1\n"
     ]
    }
   ],
   "source": [
    "#39 Count the number of characters(character frequency) in a string\n",
    "a=str(input(\"Enter the String : \"))\n",
    "print()\n",
    "l={}\n",
    "for i in a:\n",
    "    if i in l:\n",
    "        l[i]=l[i]+1\n",
    "    else:\n",
    "        \n",
    "        l[i]=1\n",
    "for key, value in l.items():\n",
    "\n",
    "    print(key,\"\\U0001f600\" ,value)"
   ]
  },
  {
   "cell_type": "code",
   "execution_count": null,
   "metadata": {
    "collapsed": true
   },
   "outputs": [],
   "source": []
  },
  {
   "cell_type": "code",
   "execution_count": null,
   "metadata": {
    "collapsed": true
   },
   "outputs": [],
   "source": []
  }
 ],
 "metadata": {
  "kernelspec": {
   "display_name": "Python 3",
   "language": "python",
   "name": "python3"
  },
  "language_info": {
   "codemirror_mode": {
    "name": "ipython",
    "version": 3
   },
   "file_extension": ".py",
   "mimetype": "text/x-python",
   "name": "python",
   "nbconvert_exporter": "python",
   "pygments_lexer": "ipython3",
   "version": "3.6.3"
  }
 },
 "nbformat": 4,
 "nbformat_minor": 2
}
