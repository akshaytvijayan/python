{
 "cells": [
  {
   "cell_type": "code",
   "execution_count": 5,
   "metadata": {},
   "outputs": [
    {
     "name": "stdout",
     "output_type": "stream",
     "text": [
      "How many Number : 3\n",
      "\n",
      " Enter the Number : 1\n",
      "\n",
      " Enter the Number : 2\n",
      "\n",
      " Enter the Number : 3\n",
      "\n",
      " Sum of the numbers in the list :  6\n"
     ]
    }
   ],
   "source": [
    "#Find the sum of all items in a list. User should enter elements of the list.\n",
    "lst=[]\n",
    "num= int(input('How many Number : '))\n",
    "for i in range(num):\n",
    "    a= int(input('\\n Enter the Number : '))\n",
    "    lst.append(a)\n",
    "print(\"\\n Sum of the numbers in the list : \",sum(lst))"
   ]
  },
  {
   "cell_type": "code",
   "execution_count": null,
   "metadata": {
    "collapsed": true
   },
   "outputs": [],
   "source": []
  }
 ],
 "metadata": {
  "kernelspec": {
   "display_name": "Python 3",
   "language": "python",
   "name": "python3"
  },
  "language_info": {
   "codemirror_mode": {
    "name": "ipython",
    "version": 3
   },
   "file_extension": ".py",
   "mimetype": "text/x-python",
   "name": "python",
   "nbconvert_exporter": "python",
   "pygments_lexer": "ipython3",
   "version": "3.6.3"
  }
 },
 "nbformat": 4,
 "nbformat_minor": 2
}
