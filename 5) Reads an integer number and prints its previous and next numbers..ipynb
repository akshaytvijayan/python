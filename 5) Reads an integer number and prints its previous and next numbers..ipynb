{
 "cells": [
  {
   "cell_type": "code",
   "execution_count": 5,
   "id": "b8126157",
   "metadata": {},
   "outputs": [
    {
     "name": "stdout",
     "output_type": "stream",
     "text": [
      "Enter Digit : 12\n",
      "The Next Number is  13 , The Previous Number is 11 .\n"
     ]
    }
   ],
   "source": [
    "num=int(input('Enter Digit : '))\n",
    "next=num+1\n",
    "prev=num-1\n",
    "print(\"The Next Number is \",next,\",\",\"The Previous Number is\",prev,\".\")"
   ]
  },
  {
   "cell_type": "code",
   "execution_count": null,
   "id": "8d82288e",
   "metadata": {},
   "outputs": [],
   "source": []
  }
 ],
 "metadata": {
  "kernelspec": {
   "display_name": "Python 3",
   "language": "python",
   "name": "python3"
  },
  "language_info": {
   "codemirror_mode": {
    "name": "ipython",
    "version": 3
   },
   "file_extension": ".py",
   "mimetype": "text/x-python",
   "name": "python",
   "nbconvert_exporter": "python",
   "pygments_lexer": "ipython3",
   "version": "3.6.3"
  }
 },
 "nbformat": 4,
 "nbformat_minor": 5
}
